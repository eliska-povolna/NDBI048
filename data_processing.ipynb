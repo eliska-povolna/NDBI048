{
 "cells": [
  {
   "cell_type": "code",
   "execution_count": 43,
   "metadata": {},
   "outputs": [],
   "source": [
    "import pandas as pd\n",
    "import numpy as np\n",
    "from sklearn.feature_extraction.text import CountVectorizer, TfidfVectorizer\n",
    "\n",
    "df_raw = pd.read_csv(\n",
    "    \"lyrics/lyrics.csv\",\n",
    "    index_col=0,\n",
    "    names=[\"song_name\", \"year\", \"interpreter\", \"genre\", \"lyrics\"],\n",
    ")\n",
    "# Set the default maximum width of columns\n",
    "pd.set_option(\"display.max_colwidth\", 100)"
   ]
  },
  {
   "cell_type": "markdown",
   "metadata": {},
   "source": [
    "# Data quality"
   ]
  },
  {
   "cell_type": "code",
   "execution_count": 44,
   "metadata": {},
   "outputs": [],
   "source": [
    "# replace \"-\" by \" \"\n",
    "df_raw[\"interpreter\"] = df_raw[\"interpreter\"].str.replace(\"-\", \" \").str.title()\n",
    "df_raw[\"song_name\"] = df_raw[\"song_name\"].str.replace(\"-\", \" \").str.title()"
   ]
  },
  {
   "cell_type": "markdown",
   "metadata": {},
   "source": [
    "# Identify which interpreters are the same"
   ]
  },
  {
   "cell_type": "code",
   "execution_count": 45,
   "metadata": {},
   "outputs": [],
   "source": [
    "def is_same(name1, name2):\n",
    "    set1 = set(name1.split())\n",
    "    set2 = set(name2.split())\n",
    "    if set1 == set2:\n",
    "        return True    \n",
    "    return False\n",
    "\n",
    "interpreters = df_raw['interpreter'].unique().tolist()\n",
    "\n",
    "interpreter_mapping={}\n",
    "for first in interpreters:\n",
    "    for second in interpreters:\n",
    "        if first != second and is_same(first, second) and len(first) <= len(second):\n",
    "            if not second in interpreter_mapping:\n",
    "                if not first in interpreter_mapping:\n",
    "                    interpreter_mapping[second] = first\n",
    "                else:\n",
    "                    if interpreter_mapping[first] != second:\n",
    "                        interpreter_mapping[second] = interpreter_mapping[first]\n",
    "            else:\n",
    "                if not first in interpreter_mapping:\n",
    "                    if not second in interpreter_mapping:\n",
    "                        interpreter_mapping[first] = second\n",
    "                    else:\n",
    "                        if interpreter_mapping[second] != first:\n",
    "                            interpreter_mapping[first] = interpreter_mapping[second]"
   ]
  },
  {
   "cell_type": "code",
   "execution_count": 46,
   "metadata": {},
   "outputs": [],
   "source": [
    "from fuzzywuzzy import fuzz\n",
    "\n",
    "# threshold is defined so that Beyonce and Beyonce Knowles are similar enough\n",
    "threshold = 63\n",
    "grouped = df_raw.groupby(['song_name', 'genre'])\n",
    "interpreter_mapping={}\n",
    "for name, group in grouped:\n",
    "    for i in range(len(group)):\n",
    "        for j in range(i+1, len(group)):\n",
    "            interpreter_score = fuzz.ratio(group.iloc[i]['interpreter'], group.iloc[j]['interpreter'])\n",
    "            if (interpreter_score > threshold):\n",
    "                first=group.iloc[i]['interpreter']\n",
    "                second=group.iloc[j]['interpreter']\n",
    "                if first != second:\n",
    "                    if len(first) < len(second):\n",
    "                        if not second in interpreter_mapping:\n",
    "                            if not first in interpreter_mapping:\n",
    "                                interpreter_mapping[second] = first\n",
    "                            else:\n",
    "                                interpreter_mapping[second] = interpreter_mapping[first]\n",
    "                    else:\n",
    "                        if not first in interpreter_mapping:\n",
    "                            if not second in interpreter_mapping:\n",
    "                                interpreter_mapping[first] = second\n",
    "                            else:\n",
    "                                interpreter_mapping[first] = interpreter_mapping[second]"
   ]
  },
  {
   "cell_type": "code",
   "execution_count": 47,
   "metadata": {},
   "outputs": [],
   "source": [
    "df_raw['interpreter'] = df_raw['interpreter'].replace(interpreter_mapping)"
   ]
  },
  {
   "cell_type": "code",
   "execution_count": 48,
   "metadata": {},
   "outputs": [],
   "source": [
    "df_raw['interpreter'] = df_raw['interpreter'].replace(interpreter_mapping)"
   ]
  },
  {
   "cell_type": "code",
   "execution_count": 49,
   "metadata": {},
   "outputs": [],
   "source": [
    "df = df_raw.dropna()\n",
    "df = df[(df[\"year\"] > 1960) & (df[\"year\"] < 2023)]"
   ]
  },
  {
   "cell_type": "code",
   "execution_count": 50,
   "metadata": {},
   "outputs": [],
   "source": [
    "df[\"lyrics\"] = df[\"lyrics\"].str.replace(r\"\\[.*?\\]\", \"\", regex=True)\n",
    "df[\"lyrics\"] = df[\"lyrics\"].str.replace(r\"\\(.*?\\)\", \"\", regex=True)"
   ]
  },
  {
   "cell_type": "code",
   "execution_count": 51,
   "metadata": {},
   "outputs": [],
   "source": [
    "df['lyrics_length'] = df['lyrics'].str.len()\n",
    "df['has_lyrics'] = df['lyrics'].apply(lambda x: 1 if x != '' else 0)\n",
    "df = df.sort_values(['has_lyrics', 'year', 'lyrics_length'], ascending=[False, True, False])\n",
    "\n",
    "df = df.drop_duplicates(subset=['song_name', 'interpreter'], keep='first')\n",
    "df = df[(df['has_lyrics'] == 1)]\n",
    "df = df.drop(columns=['lyrics_length', 'has_lyrics'])"
   ]
  },
  {
   "cell_type": "markdown",
   "metadata": {},
   "source": [
    "# Add new features"
   ]
  },
  {
   "cell_type": "code",
   "execution_count": 52,
   "metadata": {},
   "outputs": [
    {
     "name": "stderr",
     "output_type": "stream",
     "text": [
      "c:\\Users\\elisk\\ndbi048\\activate\\Lib\\site-packages\\numpy\\core\\fromnumeric.py:3504: RuntimeWarning: Mean of empty slice.\n",
      "  return _methods._mean(a, axis=axis, dtype=dtype,\n",
      "c:\\Users\\elisk\\ndbi048\\activate\\Lib\\site-packages\\numpy\\core\\_methods.py:129: RuntimeWarning: invalid value encountered in scalar divide\n",
      "  ret = ret.dtype.type(ret / rcount)\n"
     ]
    }
   ],
   "source": [
    "df[\"word_count\"] = df[\"lyrics\"].apply(lambda x: len(str(x).split()))\n",
    "\n",
    "df[\"unique_word_count\"] = df[\"lyrics\"].apply(lambda x: len(set(str(x).split())))\n",
    "\n",
    "df[\"average_word_length\"] = df[\"lyrics\"].apply(\n",
    "    lambda x: np.mean([len(word) for word in x.split() if word])\n",
    ")"
   ]
  },
  {
   "cell_type": "code",
   "execution_count": 53,
   "metadata": {},
   "outputs": [],
   "source": [
    "df = df[df['genre'] != 'Not Available']\n",
    "\n",
    "interpreter_counts = df['interpreter'].value_counts()\n",
    "interpreters_with_many_songs = interpreter_counts[interpreter_counts > 100].index\n",
    "df = df[df['interpreter'].isin(interpreters_with_many_songs)]\n"
   ]
  },
  {
   "cell_type": "markdown",
   "metadata": {},
   "source": [
    "# Language detection"
   ]
  },
  {
   "cell_type": "code",
   "execution_count": 55,
   "metadata": {},
   "outputs": [],
   "source": [
    "from langdetect import detect, DetectorFactory\n",
    "from langdetect.lang_detect_exception import LangDetectException\n",
    "\n",
    "DetectorFactory.seed = 0\n",
    "def detect_language(text):\n",
    "    try:\n",
    "        return detect(text)\n",
    "    except LangDetectException:\n",
    "        return None\n",
    "\n",
    "df['language'] = df['lyrics'].apply(detect_language)"
   ]
  },
  {
   "cell_type": "code",
   "execution_count": 56,
   "metadata": {},
   "outputs": [],
   "source": [
    "df.to_csv('preprocessed_filtered.csv', index=False)"
   ]
  }
 ],
 "metadata": {
  "kernelspec": {
   "display_name": "activate",
   "language": "python",
   "name": "python3"
  },
  "language_info": {
   "codemirror_mode": {
    "name": "ipython",
    "version": 3
   },
   "file_extension": ".py",
   "mimetype": "text/x-python",
   "name": "python",
   "nbconvert_exporter": "python",
   "pygments_lexer": "ipython3",
   "version": "3.11.2"
  }
 },
 "nbformat": 4,
 "nbformat_minor": 2
}
