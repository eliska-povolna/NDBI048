{
 "cells": [
  {
   "cell_type": "markdown",
   "metadata": {},
   "source": [
    "# Second report of lyrics dataset\n",
    "\n",
    "After preprocessing and analyzing our dataset in the first report, we will now create a model. Our model will predict the genre and interpreter based on lyrics.\n",
    "\n",
    "First, we will enhance preprocessing with additional transformations and add language prediction as a useful feature. Then we will try a few different models and find out which one performs the best. Then we will see the performance of the model.\n",
    "\n",
    "1. [Preprocessing: featurization](#preprocessing-featurization)\n",
    "2. [Model creation](#model-creation)\n",
    "3. [Model results](#model-results)\n",
    "4. [Conclusion](#conclusion)"
   ]
  },
  {
   "cell_type": "markdown",
   "metadata": {},
   "source": [
    "This time, preprocessing and modelling have been moved to separate notebooks, so you can see them if you are interested in the code."
   ]
  },
  {
   "cell_type": "markdown",
   "metadata": {},
   "source": [
    "## 1. Preprocessing: featurization\n",
    "\n",
    "We need to prepare our data for modelling. We will create 2 models: genre prediction and interpreter prediction prediction.\n",
    "\n",
    "First, we will prepare the data as in the first dataset - we will drop songs with no lyrics, songs without song name or release year or suspicious values of it. We will also try to merge interpreters that seem to just have the same name written differently, just like before. We will also create word count, unique word count and average word lenth as in the first report. TF-IDF features will be added later in modelling stage.\n",
    "\n",
    "Since we are just interested in some simple model and we have a very large dataset, we will create a universal dataset for both models.\n",
    "\n",
    "Genres contain 'Not Available' category that will not be very consistent and useful so we will drop all rows with this category.\n",
    "\n",
    "The main problem for interpreter recognition will be that there are too many of them. The best solution is to keep only those with the most of songs. So I decided to only keep those that have more than 200 songs. We could also keep interpreters with not many songs in \"other\" category, but there would be many of them and it probably would not be very useful. Since we have a large dataset, we can afford to make it smaller.\n",
    "\n",
    "Last, we will use a language model to identify the language of each row. Since there is a lot of slang in individual songs, it can make many mistakes and if we were to productionalize the model, it would be useful to limit the possible languages. But since we are just creating something simple we can keep it as is and count with the fact that wrong language recognition can also be useful since it still says something about the style of the song.\n",
    "\n",
    "You can see the preview of the resulting dataset below."
   ]
  },
  {
   "cell_type": "code",
   "execution_count": 22,
   "metadata": {},
   "outputs": [
    {
     "data": {
      "text/html": [
       "<div>\n",
       "<style scoped>\n",
       "    .dataframe tbody tr th:only-of-type {\n",
       "        vertical-align: middle;\n",
       "    }\n",
       "\n",
       "    .dataframe tbody tr th {\n",
       "        vertical-align: top;\n",
       "    }\n",
       "\n",
       "    .dataframe thead th {\n",
       "        text-align: right;\n",
       "    }\n",
       "</style>\n",
       "<table border=\"1\" class=\"dataframe\">\n",
       "  <thead>\n",
       "    <tr style=\"text-align: right;\">\n",
       "      <th></th>\n",
       "      <th>song_name</th>\n",
       "      <th>year</th>\n",
       "      <th>interpreter</th>\n",
       "      <th>genre</th>\n",
       "      <th>lyrics</th>\n",
       "      <th>word_count</th>\n",
       "      <th>unique_word_count</th>\n",
       "      <th>average_word_length</th>\n",
       "      <th>language</th>\n",
       "    </tr>\n",
       "  </thead>\n",
       "  <tbody>\n",
       "    <tr>\n",
       "      <th>0</th>\n",
       "      <td>Without You</td>\n",
       "      <td>1968</td>\n",
       "      <td>Fleetwood Mac</td>\n",
       "      <td>Rock</td>\n",
       "      <td>I'm crazy for my baby But my baby she don't lo...</td>\n",
       "      <td>107</td>\n",
       "      <td>27</td>\n",
       "      <td>3.542056</td>\n",
       "      <td>en</td>\n",
       "    </tr>\n",
       "    <tr>\n",
       "      <th>1</th>\n",
       "      <td>The Width Of A Circle</td>\n",
       "      <td>1970</td>\n",
       "      <td>David Cook</td>\n",
       "      <td>Rock</td>\n",
       "      <td>In the corner of the morning in the past I wou...</td>\n",
       "      <td>320</td>\n",
       "      <td>187</td>\n",
       "      <td>3.900000</td>\n",
       "      <td>en</td>\n",
       "    </tr>\n",
       "    <tr>\n",
       "      <th>2</th>\n",
       "      <td>All The Madmen</td>\n",
       "      <td>1970</td>\n",
       "      <td>David Cook</td>\n",
       "      <td>Rock</td>\n",
       "      <td>Day after day They send my friends away To man...</td>\n",
       "      <td>323</td>\n",
       "      <td>125</td>\n",
       "      <td>3.835913</td>\n",
       "      <td>en</td>\n",
       "    </tr>\n",
       "    <tr>\n",
       "      <th>3</th>\n",
       "      <td>Awaiting On You All</td>\n",
       "      <td>1970</td>\n",
       "      <td>George Harrison</td>\n",
       "      <td>Rock</td>\n",
       "      <td>You don't need no love in You don't need no be...</td>\n",
       "      <td>284</td>\n",
       "      <td>105</td>\n",
       "      <td>3.845070</td>\n",
       "      <td>en</td>\n",
       "    </tr>\n",
       "    <tr>\n",
       "      <th>4</th>\n",
       "      <td>Good Vibrations</td>\n",
       "      <td>1970</td>\n",
       "      <td>Beach Boys</td>\n",
       "      <td>Rock</td>\n",
       "      <td>I, I love the colorful clothes she wears And t...</td>\n",
       "      <td>223</td>\n",
       "      <td>77</td>\n",
       "      <td>4.488789</td>\n",
       "      <td>en</td>\n",
       "    </tr>\n",
       "    <tr>\n",
       "      <th>...</th>\n",
       "      <td>...</td>\n",
       "      <td>...</td>\n",
       "      <td>...</td>\n",
       "      <td>...</td>\n",
       "      <td>...</td>\n",
       "      <td>...</td>\n",
       "      <td>...</td>\n",
       "      <td>...</td>\n",
       "      <td>...</td>\n",
       "    </tr>\n",
       "    <tr>\n",
       "      <th>46433</th>\n",
       "      <td>Believe Me Now Album Version</td>\n",
       "      <td>2016</td>\n",
       "      <td>Electric Light Orchestra</td>\n",
       "      <td>Rock</td>\n",
       "      <td>Can you hear me? Ahhhhhh, Something, something...</td>\n",
       "      <td>22</td>\n",
       "      <td>18</td>\n",
       "      <td>4.727273</td>\n",
       "      <td>en</td>\n",
       "    </tr>\n",
       "    <tr>\n",
       "      <th>46434</th>\n",
       "      <td>Dreamin Home Quadrophonic Mix</td>\n",
       "      <td>2016</td>\n",
       "      <td>Chicago</td>\n",
       "      <td>Rock</td>\n",
       "      <td>Dream, dream, dream Dreams in the night Take m...</td>\n",
       "      <td>22</td>\n",
       "      <td>21</td>\n",
       "      <td>4.227273</td>\n",
       "      <td>en</td>\n",
       "    </tr>\n",
       "    <tr>\n",
       "      <th>46435</th>\n",
       "      <td>Now More Than Ever Quadrophonic Mix</td>\n",
       "      <td>2016</td>\n",
       "      <td>Chicago</td>\n",
       "      <td>Rock</td>\n",
       "      <td>Now I need you More than ever No more cryin' W...</td>\n",
       "      <td>20</td>\n",
       "      <td>18</td>\n",
       "      <td>3.800000</td>\n",
       "      <td>en</td>\n",
       "    </tr>\n",
       "    <tr>\n",
       "      <th>46436</th>\n",
       "      <td>Built This Pool</td>\n",
       "      <td>2016</td>\n",
       "      <td>Blink 182</td>\n",
       "      <td>Rock</td>\n",
       "      <td>UUH UUH UUH UUH UUH UUH UUH UUH I want to see ...</td>\n",
       "      <td>21</td>\n",
       "      <td>14</td>\n",
       "      <td>3.476190</td>\n",
       "      <td>en</td>\n",
       "    </tr>\n",
       "    <tr>\n",
       "      <th>46437</th>\n",
       "      <td>Brohemian Rhapsody</td>\n",
       "      <td>2016</td>\n",
       "      <td>Blink 182</td>\n",
       "      <td>Rock</td>\n",
       "      <td>There's something about you I can't quite put ...</td>\n",
       "      <td>11</td>\n",
       "      <td>11</td>\n",
       "      <td>4.454545</td>\n",
       "      <td>en</td>\n",
       "    </tr>\n",
       "  </tbody>\n",
       "</table>\n",
       "<p>46438 rows × 9 columns</p>\n",
       "</div>"
      ],
      "text/plain": [
       "                                 song_name  year               interpreter  \\\n",
       "0                              Without You  1968             Fleetwood Mac   \n",
       "1                    The Width Of A Circle  1970                David Cook   \n",
       "2                           All The Madmen  1970                David Cook   \n",
       "3                      Awaiting On You All  1970           George Harrison   \n",
       "4                          Good Vibrations  1970                Beach Boys   \n",
       "...                                    ...   ...                       ...   \n",
       "46433         Believe Me Now Album Version  2016  Electric Light Orchestra   \n",
       "46434        Dreamin Home Quadrophonic Mix  2016                   Chicago   \n",
       "46435  Now More Than Ever Quadrophonic Mix  2016                   Chicago   \n",
       "46436                      Built This Pool  2016                 Blink 182   \n",
       "46437                   Brohemian Rhapsody  2016                 Blink 182   \n",
       "\n",
       "      genre                                             lyrics  word_count  \\\n",
       "0      Rock  I'm crazy for my baby But my baby she don't lo...         107   \n",
       "1      Rock  In the corner of the morning in the past I wou...         320   \n",
       "2      Rock  Day after day They send my friends away To man...         323   \n",
       "3      Rock  You don't need no love in You don't need no be...         284   \n",
       "4      Rock  I, I love the colorful clothes she wears And t...         223   \n",
       "...     ...                                                ...         ...   \n",
       "46433  Rock  Can you hear me? Ahhhhhh, Something, something...          22   \n",
       "46434  Rock  Dream, dream, dream Dreams in the night Take m...          22   \n",
       "46435  Rock  Now I need you More than ever No more cryin' W...          20   \n",
       "46436  Rock  UUH UUH UUH UUH UUH UUH UUH UUH I want to see ...          21   \n",
       "46437  Rock  There's something about you I can't quite put ...          11   \n",
       "\n",
       "       unique_word_count  average_word_length language  \n",
       "0                     27             3.542056       en  \n",
       "1                    187             3.900000       en  \n",
       "2                    125             3.835913       en  \n",
       "3                    105             3.845070       en  \n",
       "4                     77             4.488789       en  \n",
       "...                  ...                  ...      ...  \n",
       "46433                 18             4.727273       en  \n",
       "46434                 21             4.227273       en  \n",
       "46435                 18             3.800000       en  \n",
       "46436                 14             3.476190       en  \n",
       "46437                 11             4.454545       en  \n",
       "\n",
       "[46438 rows x 9 columns]"
      ]
     },
     "execution_count": 22,
     "metadata": {},
     "output_type": "execute_result"
    }
   ],
   "source": [
    "import pandas as pd\n",
    "import matplotlib.pyplot as plt\n",
    "from mlflow.tracking import MlflowClient\n",
    "import mlflow\n",
    "\n",
    "df = pd.read_csv(\"preprocessed_filtered.csv\")\n",
    "df"
   ]
  },
  {
   "cell_type": "markdown",
   "metadata": {},
   "source": [
    "The dataset has tens of thousands of rows, so there is still enough data for a model.\n",
    "\n",
    "You can also see below how many interpreters we have in the dataset. There is a lot of them, however after trying various song number thresholds, it seems that the model performance is not much worse with this number."
   ]
  },
  {
   "cell_type": "code",
   "execution_count": 23,
   "metadata": {},
   "outputs": [
    {
     "name": "stdout",
     "output_type": "stream",
     "text": [
      "Number of unique interpreters: 143\n"
     ]
    },
    {
     "data": {
      "text/plain": [
       "interpreter\n",
       "Doc Watson       1182\n",
       "Ben Lee           714\n",
       "Elton John        700\n",
       "David Cook        625\n",
       "Chris Brown       625\n",
       "                 ... \n",
       "Daddy Yankee      204\n",
       "Black Sabbath     203\n",
       "Cam Ron           203\n",
       "Bonnie Raitt      201\n",
       "Blink 182         201\n",
       "Name: count, Length: 143, dtype: int64"
      ]
     },
     "execution_count": 23,
     "metadata": {},
     "output_type": "execute_result"
    }
   ],
   "source": [
    "interpreter_counts = df['interpreter'].value_counts()\n",
    "\n",
    "print(f\"Number of unique interpreters: {len(interpreter_counts)}\")\n",
    "\n",
    "interpreter_counts"
   ]
  },
  {
   "cell_type": "markdown",
   "metadata": {},
   "source": [
    "In the following image, you can see the distribution of the recognized languages. Since there is much more English songs than other, the scale is logarithmic. The least represented languages might sometimes be mistakes, however the most represented ones seem to correspond to our previous observation."
   ]
  },
  {
   "cell_type": "code",
   "execution_count": 24,
   "metadata": {},
   "outputs": [
    {
     "data": {
      "image/png": "[encoded data removed]",
      "text/plain": [
       "<Figure size 1000x600 with 1 Axes>"
      ]
     },
     "metadata": {},
     "output_type": "display_data"
    }
   ],
   "source": [
    "language_counts = df['language'].value_counts()\n",
    "\n",
    "plt.figure(figsize=(10, 6))\n",
    "language_counts.plot(kind='bar', logy=True)\n",
    "plt.title('Number of Songs for Each Language')\n",
    "plt.xlabel('Language')\n",
    "plt.ylabel('Number of Songs')\n",
    "plt.show()"
   ]
  },
  {
   "cell_type": "markdown",
   "metadata": {},
   "source": [
    "Genre representation has also changed with our filters as you can see in the following plot. There is also more rock songs than any other and the representation is imbalanced, so I have also used a logarithmic scale."
   ]
  },
  {
   "cell_type": "code",
   "execution_count": 25,
   "metadata": {},
   "outputs": [
    {
     "data": {
      "image/png": "[encoded data removed]",
      "text/plain": [
       "<Figure size 1000x600 with 1 Axes>"
      ]
     },
     "metadata": {},
     "output_type": "display_data"
    }
   ],
   "source": [
    "genre_counts = df['genre'].value_counts()\n",
    "\n",
    "plt.figure(figsize=(10, 6))\n",
    "genre_counts.plot(kind='bar', logy=True)\n",
    "plt.title('Number of Songs for Each Genre')\n",
    "plt.xlabel('Genre')\n",
    "plt.ylabel('Number of Songs')\n",
    "plt.show()"
   ]
  },
  {
   "cell_type": "markdown",
   "metadata": {},
   "source": [
    "## Model creation"
   ]
  },
  {
   "cell_type": "markdown",
   "metadata": {},
   "source": [
    "Based on the information from the Data Science classes, I have decided to try logistic regression as the base model and then also try Multinomial Naive Bayes classificator. Based on information from Machine Learning for Greenhorns, I also wanted to try SVC and a simple MLP. However, I have stopped with MLP experiment very soon because even when I had less rows at the start of experiments, the MLP was significantly slower to train and the results were actually worse.\n",
    "\n",
    "I have used MLflow to track my models. You can see the summary of results below."
   ]
  },
  {
   "cell_type": "code",
   "execution_count": 26,
   "metadata": {},
   "outputs": [
    {
     "data": {
      "text/html": [
       "<div>\n",
       "<style scoped>\n",
       "    .dataframe tbody tr th:only-of-type {\n",
       "        vertical-align: middle;\n",
       "    }\n",
       "\n",
       "    .dataframe tbody tr th {\n",
       "        vertical-align: top;\n",
       "    }\n",
       "\n",
       "    .dataframe thead th {\n",
       "        text-align: right;\n",
       "    }\n",
       "</style>\n",
       "<table border=\"1\" class=\"dataframe\">\n",
       "  <thead>\n",
       "    <tr style=\"text-align: right;\">\n",
       "      <th></th>\n",
       "      <th>mlflow.runName</th>\n",
       "      <th>accuracy</th>\n",
       "      <th>top3_accuracy</th>\n",
       "      <th>average_cross_val_score</th>\n",
       "      <th>f1</th>\n",
       "      <th>precision</th>\n",
       "      <th>recall</th>\n",
       "    </tr>\n",
       "  </thead>\n",
       "  <tbody>\n",
       "    <tr>\n",
       "      <th>0</th>\n",
       "      <td>Genre Linear SVC Model</td>\n",
       "      <td>NaN</td>\n",
       "      <td>NaN</td>\n",
       "      <td>NaN</td>\n",
       "      <td>NaN</td>\n",
       "      <td>NaN</td>\n",
       "      <td>NaN</td>\n",
       "    </tr>\n",
       "    <tr>\n",
       "      <th>1</th>\n",
       "      <td>Interpreter Multinomial Naive Bayes Model</td>\n",
       "      <td>0.104577</td>\n",
       "      <td>0.219817</td>\n",
       "      <td>0.103772</td>\n",
       "      <td>0.072626</td>\n",
       "      <td>0.122172</td>\n",
       "      <td>0.104577</td>\n",
       "    </tr>\n",
       "    <tr>\n",
       "      <th>2</th>\n",
       "      <td>Genre Multinomial Naive Bayes Model</td>\n",
       "      <td>0.582229</td>\n",
       "      <td>0.898438</td>\n",
       "      <td>0.582326</td>\n",
       "      <td>0.470735</td>\n",
       "      <td>0.489932</td>\n",
       "      <td>0.582229</td>\n",
       "    </tr>\n",
       "    <tr>\n",
       "      <th>3</th>\n",
       "      <td>Interpreter Logistic Regression Model</td>\n",
       "      <td>0.144092</td>\n",
       "      <td>0.351585</td>\n",
       "      <td>0.175340</td>\n",
       "      <td>0.109797</td>\n",
       "      <td>0.122455</td>\n",
       "      <td>0.144092</td>\n",
       "    </tr>\n",
       "    <tr>\n",
       "      <th>4</th>\n",
       "      <td>Interpreter MLP Model</td>\n",
       "      <td>0.121037</td>\n",
       "      <td>0.239193</td>\n",
       "      <td>0.129146</td>\n",
       "      <td>0.114461</td>\n",
       "      <td>0.112064</td>\n",
       "      <td>0.121037</td>\n",
       "    </tr>\n",
       "    <tr>\n",
       "      <th>5</th>\n",
       "      <td>Interpreter Linear SVC Model</td>\n",
       "      <td>0.141210</td>\n",
       "      <td>0.397695</td>\n",
       "      <td>0.181095</td>\n",
       "      <td>0.095210</td>\n",
       "      <td>0.083205</td>\n",
       "      <td>0.141210</td>\n",
       "    </tr>\n",
       "    <tr>\n",
       "      <th>6</th>\n",
       "      <td>Interpreter Multinomial Naive Bayes Model</td>\n",
       "      <td>0.138329</td>\n",
       "      <td>0.406340</td>\n",
       "      <td>0.167392</td>\n",
       "      <td>0.079610</td>\n",
       "      <td>0.071557</td>\n",
       "      <td>0.138329</td>\n",
       "    </tr>\n",
       "    <tr>\n",
       "      <th>7</th>\n",
       "      <td>Genre Logistic Regression Model</td>\n",
       "      <td>0.783862</td>\n",
       "      <td>0.956772</td>\n",
       "      <td>0.816017</td>\n",
       "      <td>0.688887</td>\n",
       "      <td>0.614439</td>\n",
       "      <td>0.783862</td>\n",
       "    </tr>\n",
       "    <tr>\n",
       "      <th>8</th>\n",
       "      <td>Genre MLP Model</td>\n",
       "      <td>0.763689</td>\n",
       "      <td>0.922190</td>\n",
       "      <td>0.784261</td>\n",
       "      <td>0.686454</td>\n",
       "      <td>0.629257</td>\n",
       "      <td>0.763689</td>\n",
       "    </tr>\n",
       "    <tr>\n",
       "      <th>9</th>\n",
       "      <td>Genre Linear SVC Model</td>\n",
       "      <td>0.783862</td>\n",
       "      <td>0.965418</td>\n",
       "      <td>0.816017</td>\n",
       "      <td>0.690001</td>\n",
       "      <td>0.616215</td>\n",
       "      <td>0.783862</td>\n",
       "    </tr>\n",
       "    <tr>\n",
       "      <th>10</th>\n",
       "      <td>Genre Multinomial Naive Bayes Model</td>\n",
       "      <td>0.783862</td>\n",
       "      <td>0.965418</td>\n",
       "      <td>0.816017</td>\n",
       "      <td>0.690001</td>\n",
       "      <td>0.616215</td>\n",
       "      <td>0.783862</td>\n",
       "    </tr>\n",
       "  </tbody>\n",
       "</table>\n",
       "</div>"
      ],
      "text/plain": [
       "                               mlflow.runName  accuracy  top3_accuracy  \\\n",
       "0                      Genre Linear SVC Model       NaN            NaN   \n",
       "1   Interpreter Multinomial Naive Bayes Model  0.104577       0.219817   \n",
       "2         Genre Multinomial Naive Bayes Model  0.582229       0.898438   \n",
       "3       Interpreter Logistic Regression Model  0.144092       0.351585   \n",
       "4                       Interpreter MLP Model  0.121037       0.239193   \n",
       "5                Interpreter Linear SVC Model  0.141210       0.397695   \n",
       "6   Interpreter Multinomial Naive Bayes Model  0.138329       0.406340   \n",
       "7             Genre Logistic Regression Model  0.783862       0.956772   \n",
       "8                             Genre MLP Model  0.763689       0.922190   \n",
       "9                      Genre Linear SVC Model  0.783862       0.965418   \n",
       "10        Genre Multinomial Naive Bayes Model  0.783862       0.965418   \n",
       "\n",
       "    average_cross_val_score        f1  precision    recall  \n",
       "0                       NaN       NaN        NaN       NaN  \n",
       "1                  0.103772  0.072626   0.122172  0.104577  \n",
       "2                  0.582326  0.470735   0.489932  0.582229  \n",
       "3                  0.175340  0.109797   0.122455  0.144092  \n",
       "4                  0.129146  0.114461   0.112064  0.121037  \n",
       "5                  0.181095  0.095210   0.083205  0.141210  \n",
       "6                  0.167392  0.079610   0.071557  0.138329  \n",
       "7                  0.816017  0.688887   0.614439  0.783862  \n",
       "8                  0.784261  0.686454   0.629257  0.763689  \n",
       "9                  0.816017  0.690001   0.616215  0.783862  \n",
       "10                 0.816017  0.690001   0.616215  0.783862  "
      ]
     },
     "execution_count": 26,
     "metadata": {},
     "output_type": "execute_result"
    }
   ],
   "source": [
    "\n",
    "client = MlflowClient()\n",
    "mlflow.set_tracking_uri('http://localhost:5000/')\n",
    "runs = client.search_runs(experiment_ids=\"0\")\n",
    "data = []\n",
    "for run in runs:\n",
    "    metrics = run.data.metrics\n",
    "    params = run.data.params\n",
    "    tags = run.data.tags\n",
    "    data.append({**metrics, **params, **tags})\n",
    "\n",
    "df = pd.DataFrame(data)\n",
    "\n",
    "df[['mlflow.runName', 'accuracy', 'top3_accuracy', 'average_cross_val_score', 'f1', 'precision', 'recall']]"
   ]
  },
  {
   "cell_type": "markdown",
   "metadata": {},
   "source": [
    "The accuracies of individual models are not very high. But that is rather because of the large number of possible targets. That's why we also have a top3 and top5 accuracy metric which measures how often the correct class is in the 3 or 5 most probable ones. Note that top5 mostly makes sense for interpreter which has hundreds of categories since there are just 8 categories in genre. But considering we have hundreds of interpreters, identifying the correct one with 10% probability and the interpreter being in top5 having 30% probability is not a bad result. We can confidently say that genre and interpreter can be predicted - however usable results would probably require more preprocessing and model tuning or predicting just on a smaller number of interpreters.\n",
    "\n",
    "We can see that Multinomial Naive Bayes has the best top3/top5 accuracy, however for interpreter, it has quite low precision. But if our goal is to have reasonable candidates for interpreter that we can verify ourselves, that might be the best option. Surprisingly, for interpreter identification, Logistic regression was the best model and for genre identification it was as good as Naive Bayes. However, its accuracy does not improve as much as for the other two models when we consider top3 or top5."
   ]
  },
  {
   "cell_type": "markdown",
   "metadata": {},
   "source": [
    "Below you can see some predictions the Naive Bayes classifier makes for genre on the test set along with the correct target. I have chosen genre for illustration since we would probably need to study more samples if we wanted to understand the results of the interpreter model."
   ]
  },
  {
   "cell_type": "code",
   "execution_count": 27,
   "metadata": {},
   "outputs": [
    {
     "ename": "SyntaxError",
     "evalue": "invalid syntax (575223626.py, line 5)",
     "output_type": "error",
     "traceback": [
      "\u001b[1;36m  Cell \u001b[1;32mIn[27], line 5\u001b[1;36m\u001b[0m\n\u001b[1;33m    X = pd.read_csv(model.)\u001b[0m\n\u001b[1;37m                          ^\u001b[0m\n\u001b[1;31mSyntaxError\u001b[0m\u001b[1;31m:\u001b[0m invalid syntax\n"
     ]
    }
   ],
   "source": [
    "import mlflow.pyfunc\n",
    "\n",
    "model_uri = \"runs:/<run_id>/model\"  # replace with your run_id and model path\n",
    "model = mlflow.pyfunc.load_model(model_uri)\n",
    "X = pd.read_csv(model.)\n",
    "\n",
    "# Assume 'X' is your data\n",
    "predictions = model.predict(X)\n",
    "predictions"
   ]
  },
  {
   "cell_type": "markdown",
   "metadata": {},
   "source": [
    "TODO:\n",
    "- graphical results of models\n",
    "- try to compare the results of models in a table\n",
    "- try some model interpretation"
   ]
  },
  {
   "cell_type": "markdown",
   "metadata": {},
   "source": [
    "## Summary\n",
    "\n",
    "After preprocessing analyzing the data in the first report, we have addded some further preprocessing and featurization. Then we tried to train several models including logistic regression, Naive Bayes and SVC.\n",
    "\n",
    "We have found out that all our models can predict the genre well enough and the predictions could be made even better with some further model tuning. However, predicting the interpreter when there are hundreds is a complex task, so our model were not able to achieve more than 10% accuracy. But considering that the correct interpreter was among the top 5 about 30% of the time, we can still consider such a model to be effective."
   ]
  },
  {
   "cell_type": "markdown",
   "metadata": {},
   "source": [
    "Acknowledgments: In the process of conducting the data analysis and building the models for this report, I utilized GitHub Copilot, an AI programming assistant powered by OpenAI's GPT-4 model. This tool provided assistance with code generation, debugging, and answering various programming-related queries. And with writing this acknowledgement. However, the rest of text is fully my work."
   ]
  }
 ],
 "metadata": {
  "kernelspec": {
   "display_name": "Python 3",
   "language": "python",
   "name": "python3"
  },
  "language_info": {
   "codemirror_mode": {
    "name": "ipython",
    "version": 3
   },
   "file_extension": ".py",
   "mimetype": "text/x-python",
   "name": "python",
   "nbconvert_exporter": "python",
   "pygments_lexer": "ipython3",
   "version": "3.11.2"
  }
 },
 "nbformat": 4,
 "nbformat_minor": 2
}
