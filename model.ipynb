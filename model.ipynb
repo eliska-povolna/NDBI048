{
 "cells": [
  {
   "cell_type": "code",
   "execution_count": 1,
   "metadata": {},
   "outputs": [],
   "source": [
    "import pandas as pd\n",
    "import numpy as np\n",
    "from sklearn.model_selection import cross_val_score\n",
    "from sklearn.feature_extraction.text import TfidfVectorizer\n",
    "from sklearn.preprocessing import MinMaxScaler\n",
    "from sklearn.svm import SVC\n",
    "from sklearn.model_selection import train_test_split\n",
    "from sklearn.metrics import accuracy_score, precision_score, recall_score, f1_score, mean_squared_error, mean_absolute_error, r2_score\n",
    "import mlflow\n",
    "from mlflow import sklearn\n",
    "from sklearn.naive_bayes import MultinomialNB\n",
    "from sklearn.neighbors import KNeighborsClassifier\n",
    "from sklearn.linear_model import LogisticRegression\n",
    "from sklearn.model_selection import GridSearchCV\n",
    "import warnings\n",
    "\n",
    "df = pd.read_csv(\"preprocessed_filtered.csv\")"
   ]
  },
  {
   "cell_type": "code",
   "execution_count": null,
   "metadata": {},
   "outputs": [
    {
     "name": "stdout",
     "output_type": "stream",
     "text": [
      "Vectorizing lyrics...\n"
     ]
    }
   ],
   "source": [
    "with open(\"stopwords.txt\", \"r\") as f:\n",
    "    stopwords = f.read().splitlines()\n",
    "\n",
    "# Vectorize the lyrics\n",
    "print(\"Vectorizing lyrics...\")\n",
    "vectorizer = TfidfVectorizer(max_features=100, stop_words=stopwords)\n",
    "\n",
    "tfidf = vectorizer.fit_transform(df['lyrics'])\n",
    "tfidf_df = pd.DataFrame(tfidf.toarray(), columns=vectorizer.get_feature_names_out())\n",
    "\n",
    "scaler = MinMaxScaler()\n",
    "df_features = df[['word_count', 'unique_word_count', 'average_word_length']]\n",
    "df_scaled = scaler.fit_transform(df_features)\n",
    "df_scaled = pd.DataFrame(df_scaled, columns=df_features.columns)\n",
    "df_reset = df_scaled.reset_index(drop=True)\n",
    "language_dummies = pd.get_dummies(df['language'], prefix='language')\n",
    "tfidf_df_reset = tfidf_df.reset_index(drop=True)\n",
    "language_dummies_reset = language_dummies.reset_index(drop=True)\n",
    "\n",
    "X = pd.concat([df[['genre', 'interpreter', 'year']], df_reset, tfidf_df_reset, language_dummies_reset], axis=1)\n",
    "X = X.dropna()"
   ]
  },
  {
   "cell_type": "code",
   "execution_count": null,
   "metadata": {},
   "outputs": [],
   "source": [
    "X"
   ]
  },
  {
   "cell_type": "code",
   "execution_count": null,
   "metadata": {},
   "outputs": [],
   "source": [
    "def train_and_log(model, model_name, X_train, y_train, X_test, y_test, target):\n",
    "    with mlflow.start_run(run_name=f\"{model_name} Model\") as run:\n",
    "        scores = cross_val_score(model, X_train, y_train, cv=5)\n",
    "        for i, score in enumerate(scores, start=1):\n",
    "            mlflow.log_metric(f\"cross_val_score_{i}\", score)\n",
    "        mlflow.log_metric(\"average_cross_val_score\", scores.mean())\n",
    "        model.fit(X_train, y_train)\n",
    "        y_pred = model.predict(X_test)\n",
    "        mlflow.sklearn.log_model(model, f\"{model_name}_model\")\n",
    "        acc = accuracy_score(y_test, y_pred)\n",
    "        csv_path = f\"test_data_{model_name}.csv\"\n",
    "        pd.concat([X_test, y_test], axis=1).to_csv(csv_path, index=False)\n",
    "        mlflow.log_artifact(csv_path)\n",
    "        print(f\"Accuracy: {acc}\")\n",
    "        mlflow.log_metric(\"accuracy\", acc)\n",
    "        mlflow.log_metric(\"precision\", precision_score(y_test, y_pred, average='weighted'))\n",
    "        mlflow.log_metric(\"recall\", recall_score(y_test, y_pred, average='weighted'))\n",
    "        mlflow.log_metric(\"f1\", f1_score(y_test, y_pred, average='weighted'))\n",
    "        mlflow.log_param(\"model_class\", type(model).__name__)\n",
    "        mlflow.log_params(model.best_params_)\n",
    "        mlflow.log_param(\"target\", target)\n",
    "        # Check if the model supports predict_proba\n",
    "        if hasattr(model, 'predict_proba'):\n",
    "            y_probs = model.predict_proba(X_test)\n",
    "            # Get the top 3 class indices with highest probabilities for each instance\n",
    "            top3_classes = np.argsort(y_probs, axis=1)[:, -3:]\n",
    "            # Convert y_test to a numpy array before the comparison\n",
    "            y_test_np = np.array(y_test)\n",
    "            # Convert y_test labels to their corresponding indices\n",
    "            y_test_indices = np.array([list(model.classes_).index(label) for label in y_test_np])\n",
    "            # Check if the true class is in the top 3 predicted classes\n",
    "            matches = np.any(top3_classes == y_test_indices[:, None], axis=1)\n",
    "            top3_accuracy = np.mean(matches)\n",
    "            print(f\"Top-3 Accuracy: {top3_accuracy}\")\n",
    "            mlflow.log_metric(\"top3_accuracy\", top3_accuracy)\n",
    "\n",
    "            # Get the top 5 class indices with highest probabilities for each instance\n",
    "            top5_classes = np.argsort(y_probs, axis=1)[:, -5:]\n",
    "            y_test_np = np.array(y_test)\n",
    "            y_test_indices = np.array([list(model.classes_).index(label) for label in y_test_np])\n",
    "            matches = np.any(top5_classes == y_test_indices[:, None], axis=1)\n",
    "            top5_accuracy = np.mean(matches)\n",
    "            print(f\"Top-5 Accuracy: {top5_accuracy}\")\n",
    "            mlflow.log_metric(\"top5_accuracy\", top5_accuracy)\n",
    "        \n",
    "        else:\n",
    "            print(f\"The {model_name} model does not support predict_proba.\")"
   ]
  },
  {
   "cell_type": "code",
   "execution_count": null,
   "metadata": {},
   "outputs": [
    {
     "name": "stdout",
     "output_type": "stream",
     "text": [
      "Accuracy: 0.5840458924125987\n",
      "Top-3 Accuracy: 0.8774759173070679\n",
      "Top-5 Accuracy: 0.9607641519644983\n",
      "Accuracy: 0.06082909405779846\n",
      "Top-3 Accuracy: 0.13004654183353176\n",
      "Top-5 Accuracy: 0.17209654724537288\n"
     ]
    }
   ],
   "source": [
    "warnings.filterwarnings('ignore')\n",
    "svc_params = {'C': [0.1, 1, 10]}\n",
    "mnb_params = {'alpha': [0.01, 0.1, 1]}\n",
    "logreg_params = {'C': [0.1, 1, 10]}\n",
    "\n",
    "# Create the models\n",
    "svc = GridSearchCV(SVC(kernel='linear', probability=True), svc_params, cv=5)\n",
    "mnb = GridSearchCV(MultinomialNB(), mnb_params, cv=5)\n",
    "logreg = GridSearchCV(LogisticRegression(max_iter=2000), logreg_params, cv=5)\n",
    "\n",
    "models = [mnb, svc, logreg]\n",
    "model_names = [\"Multinomial Naive Bayes\", \"Linear SVC\", \"MLP\", \"kNN\", \"Logistic Regression\"]\n",
    "mlflow.set_tracking_uri('http://localhost:5000/')\n",
    "X_train, X_test, y_train_genre, y_test_genre = train_test_split(X.drop(['genre', 'interpreter'], axis=1), X['genre'], test_size=0.2, random_state=42)\n",
    "X_train, X_test, y_train_interpreter, y_test_interpreter = train_test_split(X.drop(['genre', 'interpreter'], axis=1), X['interpreter'], test_size=0.2, random_state=42)\n",
    "for model, model_name in zip(models, model_names):\n",
    "    train_and_log(model, f\"Genre {model_name}\", X_train, y_train_genre, X_test, y_test_genre, \"genre\")\n",
    "    train_and_log(model, f\"Interpreter {model_name}\", X_train, y_train_interpreter, X_test, y_test_interpreter, \"interpreter\")"
   ]
  }
 ],
 "metadata": {
  "kernelspec": {
   "display_name": "activate",
   "language": "python",
   "name": "python3"
  },
  "language_info": {
   "codemirror_mode": {
    "name": "ipython",
    "version": 3
   },
   "file_extension": ".py",
   "mimetype": "text/x-python",
   "name": "python",
   "nbconvert_exporter": "python",
   "pygments_lexer": "ipython3",
   "version": "3.11.2"
  }
 },
 "nbformat": 4,
 "nbformat_minor": 2
}
